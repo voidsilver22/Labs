{
  "nbformat": 4,
  "nbformat_minor": 0,
  "metadata": {
    "colab": {
      "provenance": [],
      "authorship_tag": "ABX9TyO5ZPEj2SUqhlhpOaxQX6Ry",
      "include_colab_link": true
    },
    "kernelspec": {
      "name": "python3",
      "display_name": "Python 3"
    },
    "language_info": {
      "name": "python"
    }
  },
  "cells": [
    {
      "cell_type": "markdown",
      "metadata": {
        "id": "view-in-github",
        "colab_type": "text"
      },
      "source": [
        "<a href=\"https://colab.research.google.com/github/voidsilver22/Labs/blob/main/1022251_CSL405_SBL_PYTHON_LAB_2_.ipynb\" target=\"_parent\"><img src=\"https://colab.research.google.com/assets/colab-badge.svg\" alt=\"Open In Colab\"/></a>"
      ]
    },
    {
      "cell_type": "markdown",
      "source": [
        "### Name: Swastik Sharma\n",
        "### Branch : Computer Eng.(SEM IV)\n",
        "### Batch : 3\n",
        "### Roll No. : 1022251\n",
        "### Practical : 2\n"
      ],
      "metadata": {
        "id": "Kt8NwZ7TlgMI"
      }
    },
    {
      "cell_type": "markdown",
      "source": [
        "\n",
        "Q. 4. Consider the following two lists:\n",
        "    \n",
        "    P = [2,3,5,7,11,13,17,23,29],\n",
        "    \n",
        "    T = ['A Study in Scarlet','A Scandle in Bohemia','The Sign of Four','The Hound of the Baskervilles']\n",
        "    \n",
        "    Illustrate the use of the following list functions:\n",
        "    \n",
        "    append(), count(), index(), insert(), pop(), remove(), reverse()\n",
        "\n",
        "\n",
        "\n",
        "[*02 Marks*]\n"
      ],
      "metadata": {
        "id": "tBmqb9xXSvLY"
      }
    },
    {
      "cell_type": "code",
      "source": [
        "# Solution to Q.4.\n",
        "# adding an element to the last of both lists\n",
        "p = [2,3,5,7,11,13,17,23,29]\n",
        "T = ['A Study in Scarlet','A Scandle in Bohemia','The Sign of Four','The Hound of the Baskervilles']\n",
        "p.append(30)\n",
        "print(p)\n",
        "T.append('California')\n",
        "print(T)\n",
        "\n",
        "# counting the number of occurances in the list \\\n",
        "print(f\"Checking the number of occurances of A Study in Scarlet {T.count('A Study in Scarlet')}\")\n",
        "print(f\"Checking the number of occurances of 5 {p.count(5)}\")\n",
        "\n",
        "#Checking the index of an element\n",
        "\n",
        "print(f\"The position of The Sign of Four in the above list {T.index('The Sign of Four')}\")\n",
        "print(f\"The position of 5 in the above list {p.index(5)}\")\n",
        "\n",
        "#Removing an element from the list using index\n",
        "print(f\"5 to be removed from the list {p} , the new list is {p.pop(2)}\")\n",
        "print(f\" \\'A Study in Scarlet\\' removed from the list {T} , the new list is {T.pop(2)}\")\n",
        "\n",
        "\n",
        "# Removing an element using the element itself\n",
        "print(f\" 7 to be removed from the list {p} , the new list is {p.remove(7)}\")\n",
        "print(f\" \\'A Study in Scarlet\\' removed from the list {T} , the new list is {T.remove('A Study in Scarlet')}\")\n",
        "\n",
        "#  Reversing the lists\n",
        "print(f\"Before {p} \\t After: {p.reverse()}\")\n",
        "print(f\"Before {T} \\t After: {T.reverse()}\")\n"
      ],
      "metadata": {
        "id": "x8L8aY6e6pYE",
        "colab": {
          "base_uri": "https://localhost:8080/"
        },
        "outputId": "17e101a7-efa6-4c6f-9a86-b96817d6685a"
      },
      "execution_count": 33,
      "outputs": [
        {
          "output_type": "stream",
          "name": "stdout",
          "text": [
            "[2, 3, 5, 7, 11, 13, 17, 23, 29, 30]\n",
            "['A Study in Scarlet', 'A Scandle in Bohemia', 'The Sign of Four', 'The Hound of the Baskervilles', 'California']\n",
            "Checking the number of occurances of A Study in Scarlet 1\n",
            "Checking the number of occurances of 5 1\n",
            "The position of The Sign of Four in the above list 2\n",
            "The position of 5 in the above list 2\n",
            "5 to be removed from the list [2, 3, 5, 7, 11, 13, 17, 23, 29, 30] , the new list is 5\n",
            " 'A Study in Scarlet' removed from the list ['A Study in Scarlet', 'A Scandle in Bohemia', 'The Sign of Four', 'The Hound of the Baskervilles', 'California'] , the new list is The Sign of Four\n",
            " 7 to be removed from the list [2, 3, 7, 11, 13, 17, 23, 29, 30] , the new list is None\n",
            " 'A Study in Scarlet' removed from the list ['A Study in Scarlet', 'A Scandle in Bohemia', 'The Hound of the Baskervilles', 'California'] , the new list is None\n",
            "Before [2, 3, 11, 13, 17, 23, 29, 30] \t After: None\n",
            "Before ['A Scandle in Bohemia', 'The Hound of the Baskervilles', 'California'] \t After: None\n"
          ]
        }
      ]
    },
    {
      "cell_type": "markdown",
      "source": [
        "\n",
        "Q. 5. Consider the following dictionaries.\n",
        "    \n",
        "    A = {'toystory':110,'kungfupanda':215,'incredibles',185}\n",
        "    \n",
        "    B = {'fast':98,'furious':55,'lazy':90}\n",
        "    \n",
        "    Illustrate the use of the following dictionaries functions:\n",
        "    \n",
        "    keys(), values(), pop(), popitem(), update(), items(), get()\n",
        "\n",
        "[*02 Marks*]\n"
      ],
      "metadata": {
        "id": "Zmq5MAIh5wPS"
      }
    },
    {
      "cell_type": "code",
      "source": [
        "# Solution to Q.5.\n",
        "A = {'toystory':110,'kungfupanda':215,'incredibles':185}\n",
        "\n",
        "B = {'fast':98,'furious':55,'lazy':90}\n",
        "#prints the keys in a Dictionary\n",
        "print(f\"The keys in dictionary A {A.keys()}\")\n",
        "print(f\"The keys in dictionary B {B.keys()}\")\n"
      ],
      "metadata": {
        "id": "dSNyJH566q9f",
        "colab": {
          "base_uri": "https://localhost:8080/"
        },
        "outputId": "fa8dc941-e2f9-44f1-8f90-657e6943c85f"
      },
      "execution_count": 34,
      "outputs": [
        {
          "output_type": "stream",
          "name": "stdout",
          "text": [
            "The keys in dictionary A dict_keys(['toystory', 'kungfupanda', 'incredibles'])\n",
            "The keys in dictionary B dict_keys(['fast', 'furious', 'lazy'])\n"
          ]
        }
      ]
    },
    {
      "cell_type": "code",
      "source": [
        "# printing the values in both the dictionaries\n",
        "print(f\"The values in dictionary A {A.values()}\")\n",
        "print(f\"The values in dictionary B {B.values()}\")"
      ],
      "metadata": {
        "colab": {
          "base_uri": "https://localhost:8080/"
        },
        "id": "6KZ8U8XyeyMg",
        "outputId": "368e1a00-3783-471c-e146-fb4004e3a6e9"
      },
      "execution_count": 35,
      "outputs": [
        {
          "output_type": "stream",
          "name": "stdout",
          "text": [
            "The values in dictionary A dict_values([110, 215, 185])\n",
            "The values in dictionary B dict_values([98, 55, 90])\n"
          ]
        }
      ]
    },
    {
      "cell_type": "code",
      "source": [
        "# Using the pop() to remove a key and return the value of the removed key in a dictionary\n",
        "A = {'toystory':110,'kungfupanda':215,'incredibles':185}\n",
        "B = {'fast':98,'furious':55,'lazy':90}\n",
        "print(f\"The key to be removed from the dictionary \\\"A\\\" is toystory and its value is {A.pop('toystory')}\")\n",
        "print(f\"The dictionary after removing is : {A}\")\n",
        "\n",
        "print(f\"The key to be removed from the dictionary \\\"B\\\" is fast and its value is {B.pop('fast')}\")\n",
        "print(f\"The dictionary after removing is : {B}\")"
      ],
      "metadata": {
        "colab": {
          "base_uri": "https://localhost:8080/"
        },
        "id": "z5nLi3bffBqx",
        "outputId": "7b3daad5-0d5a-4986-d802-aaa004b47578"
      },
      "execution_count": 36,
      "outputs": [
        {
          "output_type": "stream",
          "name": "stdout",
          "text": [
            "The key to be removed from the dictionary \"A\" is toystory and its value is 110\n",
            "The dictionary after removing is : {'kungfupanda': 215, 'incredibles': 185}\n",
            "The key to be removed from the dictionary \"B\" is fast and its value is 98\n",
            "The dictionary after removing is : {'furious': 55, 'lazy': 90}\n"
          ]
        }
      ]
    },
    {
      "cell_type": "code",
      "source": [
        "A = {'toystory':110,'kungfupanda':215,'incredibles':185}\n",
        "B = {'fast':98,'furious':55,'lazy':90}\n",
        "print(f\"Using popitem() removing the last key value pair : {A.popitem()}\")\n",
        "print(f\"Using popitem() removing the last key value pair : {B.popitem()}\")\n"
      ],
      "metadata": {
        "colab": {
          "base_uri": "https://localhost:8080/"
        },
        "id": "m9EnWJf3gqo5",
        "outputId": "6574ddee-60ab-4ade-8c14-844c668a07ec"
      },
      "execution_count": 37,
      "outputs": [
        {
          "output_type": "stream",
          "name": "stdout",
          "text": [
            "Using popitem() removing the last key value pair : ('incredibles', 185)\n",
            "Using popitem() removing the last key value pair : ('lazy', 90)\n"
          ]
        }
      ]
    },
    {
      "cell_type": "code",
      "source": [
        "A = {'toystory':110,'kungfupanda':215,'incredibles':185}\n",
        "B = {'fast':98,'furious':55,'lazy':90}\n",
        "# Using update() adding another key value pair to the dictionary\n",
        "A.update({'fast&furious':1102})\n",
        "print(f\"Updated dictionary {A}\")\n",
        "B.update({'dumb':1102})\n",
        "print(f\"Updated dictionary {B}\")\n"
      ],
      "metadata": {
        "colab": {
          "base_uri": "https://localhost:8080/"
        },
        "id": "o9yVFx9FhjeZ",
        "outputId": "b1fba03b-7dd3-407f-8662-bb58541a6fb5"
      },
      "execution_count": 38,
      "outputs": [
        {
          "output_type": "stream",
          "name": "stdout",
          "text": [
            "Updated dictionary {'toystory': 110, 'kungfupanda': 215, 'incredibles': 185, 'fast&furious': 1102}\n",
            "Updated dictionary {'fast': 98, 'furious': 55, 'lazy': 90, 'dumb': 1102}\n"
          ]
        }
      ]
    },
    {
      "cell_type": "code",
      "source": [
        "A = {'toystory':110,'kungfupanda':215,'incredibles':185}\n",
        "B = {'fast':98,'furious':55,'lazy':90}\n",
        "print(A.items())\n",
        "print(B.items())"
      ],
      "metadata": {
        "colab": {
          "base_uri": "https://localhost:8080/"
        },
        "id": "tGsK7EmeilWN",
        "outputId": "6e191f50-8961-4442-97f8-9be2abf994f6"
      },
      "execution_count": 39,
      "outputs": [
        {
          "output_type": "stream",
          "name": "stdout",
          "text": [
            "dict_items([('toystory', 110), ('kungfupanda', 215), ('incredibles', 185)])\n",
            "dict_items([('fast', 98), ('furious', 55), ('lazy', 90)])\n"
          ]
        }
      ]
    },
    {
      "cell_type": "code",
      "source": [
        "A = {'toystory':110,'kungfupanda':215,'incredibles':185}\n",
        "name = A.get('toystory')\n",
        "print(name)"
      ],
      "metadata": {
        "id": "iM_xtmZ3izV9",
        "colab": {
          "base_uri": "https://localhost:8080/"
        },
        "outputId": "2563ca1a-7be1-4b27-b3ec-06eda67fcb1f"
      },
      "execution_count": 40,
      "outputs": [
        {
          "output_type": "stream",
          "name": "stdout",
          "text": [
            "110\n"
          ]
        }
      ]
    },
    {
      "cell_type": "markdown",
      "source": [
        "## Tuples\n"
      ],
      "metadata": {
        "id": "tqMxXq69TIlm"
      }
    },
    {
      "cell_type": "markdown",
      "source": [
        "### Tuple functions\n",
        "* len(): - Returns the number of items in a tuple.  \n",
        "* max(): - Returns the maximum element in a tuple.\n",
        "* min(): - Returns the minimum element in a tuple.\n",
        "* tuple(): - Converts an iterable data structure such as a list, string, or set into a tuple.\n",
        "* index(): - Returns the index of an element in a tuple.\n",
        "* count(): - Returns the number of occurrences of an element in a tuple.\n"
      ],
      "metadata": {
        "id": "HcYFc1hSTrPE"
      }
    },
    {
      "cell_type": "code",
      "source": [
        "# Taking an example for a Tuple\n",
        "A = (\"Hello\",\"World \",\"this\",\"is\",\"an\",\"example\",\"of\",\"tuple\")\n",
        "#Checking its type to confirm\n",
        "type(A)"
      ],
      "metadata": {
        "colab": {
          "base_uri": "https://localhost:8080/"
        },
        "id": "4Ps6BltbUCw0",
        "outputId": "63a6dbb5-91ca-4566-b413-d101255a5307"
      },
      "execution_count": 41,
      "outputs": [
        {
          "output_type": "execute_result",
          "data": {
            "text/plain": [
              "tuple"
            ]
          },
          "metadata": {},
          "execution_count": 41
        }
      ]
    },
    {
      "cell_type": "code",
      "source": [
        "# The len() gives a the number of elements in a Tuple\n",
        "print(f\"The length of the tuple is {len(A)}\")"
      ],
      "metadata": {
        "colab": {
          "base_uri": "https://localhost:8080/"
        },
        "id": "PXGmbSE_Ug5l",
        "outputId": "f1f70d45-75e8-4ca9-b571-8b942afea87f"
      },
      "execution_count": 42,
      "outputs": [
        {
          "output_type": "stream",
          "name": "stdout",
          "text": [
            "The length of the tuple is 8\n"
          ]
        }
      ]
    },
    {
      "cell_type": "code",
      "source": [
        "B = (1,2,3,4,5,6,7,8,9)\n",
        "# The max() gives the maximum element of the Tuple\n",
        "print(f\"The Maximum element in the tuple B is {max(B)}\")\n",
        "#The min() gives the minimum element of the tuple\n",
        "print(f\"The Minimum element in the tuple B is {min(B)}\")\n"
      ],
      "metadata": {
        "colab": {
          "base_uri": "https://localhost:8080/"
        },
        "id": "m9C3t2PXU-j7",
        "outputId": "b95bc8d1-176f-48e1-fdfc-69d16918d0d8"
      },
      "execution_count": 43,
      "outputs": [
        {
          "output_type": "stream",
          "name": "stdout",
          "text": [
            "The Maximum element in the tuple B is 9\n",
            "The Minimum element in the tuple B is 1\n"
          ]
        }
      ]
    },
    {
      "cell_type": "code",
      "source": [
        "# Consider a List\n",
        "Li = [\"Hello\", \"This\", \"is\", \"a\", \"list\"]\n",
        "print(Li)\n",
        "print(f\"The data type is {type(Li)}\")\n",
        "# Converting it into a tuple\n",
        "Tli = tuple(Li)\n",
        "print(Tli)\n",
        "print(f\"The data type is {type(Tli)}\")"
      ],
      "metadata": {
        "colab": {
          "base_uri": "https://localhost:8080/"
        },
        "id": "SsgC7Wn5WE7Z",
        "outputId": "89403920-5d52-4e59-db0e-87e8269e6e5f"
      },
      "execution_count": 44,
      "outputs": [
        {
          "output_type": "stream",
          "name": "stdout",
          "text": [
            "['Hello', 'This', 'is', 'a', 'list']\n",
            "The data type is <class 'list'>\n",
            "('Hello', 'This', 'is', 'a', 'list')\n",
            "The data type is <class 'tuple'>\n"
          ]
        }
      ]
    },
    {
      "cell_type": "code",
      "source": [
        "# index() returns the index of the element in a tuple\n",
        "index = A.index(\"this\")\n",
        "print(f\"The index postion of \\\"this\\\" in tuple A is {index}\")\n",
        "\n",
        "#count() Returns the number of occurrences of an element in a tuple.\n",
        "A.count(\"tuple\")"
      ],
      "metadata": {
        "colab": {
          "base_uri": "https://localhost:8080/"
        },
        "id": "fL1JHTgoXbUW",
        "outputId": "16040417-b261-4db2-fd1b-a1c9103502cd"
      },
      "execution_count": 45,
      "outputs": [
        {
          "output_type": "stream",
          "name": "stdout",
          "text": [
            "The index postion of \"this\" in tuple A is 2\n"
          ]
        },
        {
          "output_type": "execute_result",
          "data": {
            "text/plain": [
              "1"
            ]
          },
          "metadata": {},
          "execution_count": 45
        }
      ]
    },
    {
      "cell_type": "markdown",
      "source": [
        "## Sets"
      ],
      "metadata": {
        "id": "n_cAc67PYkeo"
      }
    },
    {
      "cell_type": "markdown",
      "source": [
        " The functions of sets are :\n",
        "* union(): - Returns a new set with the elements that are in either set.\n",
        "* intersection(): - Returns a new set with the elements that are in both sets\n",
        "* add(): - Adds an element to the set.\n",
        "* clear(): - Removes all elements from the set."
      ],
      "metadata": {
        "id": "9XTyj_0AYnti"
      }
    },
    {
      "cell_type": "code",
      "source": [
        "# Consider the Sets\n",
        "A = {1, 2, 3, 4, 5}\n",
        "B ={2,5,6,7,8}\n",
        "# The union() returns the union of the two sets\n",
        "print(f\"The union of the two sets {A} & {B} is {A.union(B)}\")\n",
        "# The intersection() returns the intersection of the two sets\n",
        "print(f\"The intersection of the two sets {A} & {B} is {A.intersection(B)}\")\n",
        "#The add() adds an element to the set\n",
        "print(f\"The set A before adding an element is {A}\")\n",
        "A.add(7)\n",
        "print(f\"The set A after adding the element 7 is {A}\")\n",
        "# The clear() of a set removes all the elements from the set\n",
        "A.clear()\n",
        "print(f\"The set A after removing all the elements is {A}, which is an empty set\")"
      ],
      "metadata": {
        "colab": {
          "base_uri": "https://localhost:8080/"
        },
        "id": "-yK9whvBYgc0",
        "outputId": "154f069d-6aa2-4062-ac18-76fe3c813a5f"
      },
      "execution_count": 46,
      "outputs": [
        {
          "output_type": "stream",
          "name": "stdout",
          "text": [
            "The union of the two sets {1, 2, 3, 4, 5} & {2, 5, 6, 7, 8} is {1, 2, 3, 4, 5, 6, 7, 8}\n",
            "The intersection of the two sets {1, 2, 3, 4, 5} & {2, 5, 6, 7, 8} is {2, 5}\n",
            "The set A before adding an element is {1, 2, 3, 4, 5}\n",
            "The set A after adding the element 7 is {1, 2, 3, 4, 5, 7}\n",
            "The set A after removing all the elements is set(), which is an empty set\n"
          ]
        }
      ]
    },
    {
      "cell_type": "markdown",
      "source": [
        "### Demonstration of the OOPS concepts\n",
        "* Designing a banking system witch classes to report accounts & taxes\n",
        "* Simple game using classes and Object"
      ],
      "metadata": {
        "id": "1L9itzopWdwC"
      }
    },
    {
      "cell_type": "code",
      "source": [
        "class Customer:\n",
        "  def __init__(self,name,acc_balance,acc_no):\n",
        "    self.name = name\n",
        "    self.acc_balance = int(acc_balance)\n",
        "    self.acc_no = int(acc_no)\n",
        "  def showBalance(self,acc_no):\n",
        "    print(f\"Your Account Balance is : {self.acc_balance}\")\n",
        "  def credit(self,acc_no):\n",
        "    amt = int(input(\"Enter the amount to be added : \"))\n",
        "    self.acc_balance = self.acc_balance+amt\n",
        "    print(f\"Your new account balance is : {self.acc_balance+amt}\")\n",
        "    self.acc_balance = self.acc_balance+amt\n",
        "  def debit(self,acc_no):\n",
        "    amt1= int(input(\"Enter the amount to be debited : \"))\n",
        "    if self.acc_balance < amt1:\n",
        "      print(\"Insufficient Funds\")\n",
        "    else:\n",
        "      print(f\"Your account balance is : {self.acc_balance - amt1}\")\n",
        "    return amt1\n",
        "class Tax:\n",
        "  def __init__(self, tax_rate):\n",
        "    self.tax_rate = tax_rate\n",
        "\n",
        "  def calculate_tax(self, amount):\n",
        "    return (amount * self.tax_rate)/100\n",
        "\n",
        "c1 = Customer(\"S1\",145000,10022265434738)\n",
        "t1 = Tax(7.245)\n",
        "c1.showBalance(10022265434738)\n",
        "c1.credit(10022265434738)\n",
        "amt = c1.debit(10022265434738)\n",
        "taxes = t1.calculate_tax(amt)\n",
        "print(f\"Tax for the recent purchase of Rs.{amt} is {taxes} \")\n",
        "\n"
      ],
      "metadata": {
        "colab": {
          "base_uri": "https://localhost:8080/"
        },
        "id": "UkGnVtjlWdCs",
        "outputId": "6b201e74-7084-4e87-9812-5c0351b6b959"
      },
      "execution_count": 47,
      "outputs": [
        {
          "output_type": "stream",
          "name": "stdout",
          "text": [
            "Your Account Balance is : 145000\n",
            "Enter the amount to be added : 15000\n",
            "Your new account balance is : 175000\n",
            "Enter the amount to be debited : 1200\n",
            "Your account balance is : 173800\n",
            "Tax for the recent purchase of Rs.1200 is 86.94 \n"
          ]
        }
      ]
    },
    {
      "cell_type": "code",
      "source": [
        "from random import randint\n",
        "\n",
        "class Player:\n",
        "    def __init__(self, name):\n",
        "        self.name = name\n",
        "        self.guesses = 0\n",
        "\n",
        "    def guess(self):\n",
        "        guess = input(\"Guess a number between 1 and 10: \")\n",
        "        self.guesses += 1\n",
        "        return int(guess)\n",
        "#Outside the Player class\n",
        "class Computer:\n",
        "    def __init__(self):\n",
        "        self.number = randint(1, 11)\n",
        "\n",
        "    def check_guess(self, guess):\n",
        "        if guess == self.number:\n",
        "            return \"Correct!\"\n",
        "        elif guess < self.number:\n",
        "            return \"Too low.\"\n",
        "        else:\n",
        "            return \"Too high.\"\n",
        "# Outside the Computer class\n",
        "def play_game():\n",
        "    computer = Computer()\n",
        "    print(\"Welcome to the Number Guesser game\")\n",
        "    player = Player(input(\"Enter your Name : \"))\n",
        "\n",
        "    while True:\n",
        "        guess = player.guess()\n",
        "        result = computer.check_guess(guess)\n",
        "\n",
        "        if result == \"Correct!\":\n",
        "            print(f\"Congratulations, {player.name}! You guessed the number in {player.guesses} guesses.\")\n",
        "            break\n",
        "        else:\n",
        "            print(result)\n",
        "\n",
        "if __name__ == \"__main__\":\n",
        "    play_game()"
      ],
      "metadata": {
        "colab": {
          "base_uri": "https://localhost:8080/"
        },
        "id": "ROxkmco5fRHQ",
        "outputId": "42ac7990-8db5-44fc-a591-cc8a031bdeac"
      },
      "execution_count": 48,
      "outputs": [
        {
          "output_type": "stream",
          "name": "stdout",
          "text": [
            "Welcome to the Number Guesser game\n",
            "Enter your Name : Player\n",
            "Guess a number between 1 and 10: 5\n",
            "Congratulations, Player! You guessed the number in 1 guesses.\n"
          ]
        }
      ]
    }
  ]
}